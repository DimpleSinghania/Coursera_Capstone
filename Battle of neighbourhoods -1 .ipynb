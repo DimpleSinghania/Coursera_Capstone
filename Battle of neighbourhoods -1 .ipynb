{
 "cells": [
  {
   "cell_type": "code",
   "execution_count": null,
   "metadata": {},
   "outputs": [],
   "source": [
    "import pandas as pd\n",
    "import numpy as np\n",
    "from bs4 import BeautifulSoup\n",
    "from urllib.request import urlopen\n",
    "import requests\n",
    "import json\n",
    "!conda install -c conda-forge geopy --yes\n",
    "from geopy.geocoders import Nominatim # to convert address in latitude and longitude value\n",
    "# for plotting     \n",
    "import matplotlib.cm as cm\n",
    "import matplotlib.colors as colors\n",
    "# for K-means clustering\n",
    "from sklearn.cluster import KMeans\n",
    "# for mapping with folium\n",
    "!conda install -c conda-forge folium=0.5.0 --yes\n",
    "import folium\n",
    "from sklearn import preprocessing\n",
    "print('Libraries imported')"
   ]
  },
  {
   "cell_type": "code",
   "execution_count": null,
   "metadata": {},
   "outputs": [],
   "source": [
    "\n",
    "barna_df = df_data_1[df_data_1['City']=='Barcelona']\n",
    "barna_df = barna_df.reset_index(drop=True)\n",
    "barna_df.head()"
   ]
  },
  {
   "cell_type": "code",
   "execution_count": null,
   "metadata": {},
   "outputs": [],
   "source": [
    "address    = 'Barcelona, Spain'\n",
    "geolocator = Nominatim()\n",
    "location   = geolocator.geocode(address)\n",
    "latitude   = location.latitude\n",
    "longitude  = location.longitude\n",
    "\n",
    "print('The coordinates of Barcelona are {}, {}.'.format(latitude, longitude))\n",
    "\n",
    "map_barna= folium.Map(location=[latitude,longitude], zoom_start=12)\n",
    "\n",
    "#adding markers to the Map\n",
    "for lat, long, label in zip(barna_df['Latitude'], barna_df['Longitude'], barna_df['Place Name']):\n",
    "    label = folium.Popup(label,parse_html=True)\n",
    "    folium.CircleMarker(\n",
    "    [lat,long],\n",
    "    radius=5,\n",
    "    popup=label,\n",
    "    colour='blue',\n",
    "    fill_color='#3186cc',\n",
    "    fill_opacity=0.7,\n",
    "    parse_html=False).add_to(map_barna)\n",
    "\n",
    "map_barna"
   ]
  },
  {
   "cell_type": "code",
   "execution_count": null,
   "metadata": {},
   "outputs": [],
   "source": [
    "\n",
    "barna_df =barna_df.loc[barna_df['Place Name'].isin(['Barcelona'])]\n",
    "barna_df =barna_df.reset_index(drop=True)"
   ]
  },
  {
   "cell_type": "code",
   "execution_count": null,
   "metadata": {},
   "outputs": [],
   "source": [
    "barna_df.head()\n"
   ]
  },
  {
   "cell_type": "code",
   "execution_count": null,
   "metadata": {},
   "outputs": [],
   "source": [
    "barna_df.drop(['State','County','City'],axis=1,inplace=True)\n",
    "barna_df.shape\n"
   ]
  },
  {
   "cell_type": "code",
   "execution_count": null,
   "metadata": {},
   "outputs": [],
   "source": [
    "barna_df['Place Name'][0]='El Raval'\n",
    "barna_df['Place Name'][1]='Gothic Quarter' \n",
    "barna_df['Place Name'][2]='Ciutat Vella, La Barcelonata'\n",
    "barna_df['Place Name'][3]='El Poble Sec' \n",
    "barna_df['Place Name'][4]='El Poble Nou'\n",
    "barna_df['Place Name'][5]='Sant Gervasi, Hospital Plato' \n",
    "barna_df['Place Name'][6]='City Center, Passeig de Gracia'\n",
    "barna_df['Place Name'][7]='Diagonal' \n",
    "barna_df['Place Name'][8]='Girona, Jardins de Jaume Perich, Carrer d\\'Arago'\n",
    "barna_df['Place Name'][9]='placa de Tetuan, Urquinaona' \n",
    "barna_df['Place Name'][10]='Urgell,Jardin de Cesar Martinell'\n",
    "barna_df['Place Name'][11]='Vila de Gracia' \n",
    "barna_df['Place Name'][12]='Fort Pienc, Sagrada Familia'\n",
    "barna_df['Place Name'][13]='Sants, Taragona, Placa del Centre' \n",
    "barna_df['Place Name'][14]='Sant Antoni, Rocafort'\n",
    "barna_df['Place Name'][15]='Porta,Virrei Amat, La prosperitat ' \n",
    "barna_df['Place Name'][16]='Vallvidrera'\n",
    "barna_df['Place Name'][17]='Sant Marti, La Verneda, Glories, Arc de Triomf' \n",
    "barna_df['Place Name'][18]='El Besos I El Maresme, Paolo Alto Market'\n",
    "barna_df['Place Name'][19]='La Verneda I La Pau, Sant Marti de Provencals' \n",
    "barna_df['Place Name'][20]='Sant Gervasi-Galvany, La Bonanova, Turo Parc'\n",
    "barna_df['Place Name'][21]='Sant Gervasi-La Bonanova, Av. Tibidabo,  El Putxet' \n",
    "barna_df['Place Name'][22]='Vallcarca I Els Penitents, El parc del Turo del Putxet, El Coll'\n",
    "barna_df['Place Name'][23]='Gracia, Can Baro, Alfons X' \n",
    "barna_df['Place Name'][24]='El Baix Guinardo, El Camp D\\'En Grassot I Gracia  Nova'\n",
    "barna_df['Place Name'][25]='El Camp de L\\'Arpa del Clot' \n",
    "barna_df['Place Name'][26]='La Sagrega'\n",
    "barna_df['Place Name'][27]='Les Corts, La Maternitat I Sant Ramon, Sants-Montjuic' \n",
    "barna_df['Place Name'][28]='La Nova Esquerra de L\\'Exiample, Entenca'\n",
    "barna_df['Place Name'][29]='Sant Adreu, Baro de Viver' \n",
    "barna_df['Place Name'][30]='Vilapicina, Can Peguera, El Turo de La Peira'\n",
    "barna_df['Place Name'][31]='El Carmel, Horta, La Font D\\'En Fargues' \n",
    "barna_df['Place Name'][32]='La Trinitat Nova, Trinitat Vella, Torre Baro, Vallbona'\n",
    "barna_df['Place Name'][33]='Saria, Pedralbes, Ciutat Universitaria' \n",
    "barna_df['Place Name'][34]='Horta, Sant Genis Dels Agudells, La Teixonera'\n",
    "barna_df['Place Name'][35]='Hospital Clinic, La Fira' \n",
    "barna_df['Place Name'][36]='Verdaguer, Passeig de Sant Joan'\n",
    "barna_df['Place Name'][37]='Parc de Montjuic, La Marina de Port, La Marina del Prat Vermell' \n",
    "barna_df['Place Name'][38]='Port de Barcelona'\n",
    "barna_df['Place Name'][39]='Zona Franca' \n",
    "barna_df['Place Name'][40]='El Guinardo'\n",
    "barna_df['Place Name'][41]='Les Roquetes'"
   ]
  },
  {
   "cell_type": "code",
   "execution_count": null,
   "metadata": {},
   "outputs": [],
   "source": [
    "barna_df.drop(barna_df.index[42], inplace=True)\n"
   ]
  },
  {
   "cell_type": "code",
   "execution_count": null,
   "metadata": {},
   "outputs": [],
   "source": [
    "barna_df.drop(barna_df.index[42], inplace=True)\n"
   ]
  },
  {
   "cell_type": "code",
   "execution_count": null,
   "metadata": {},
   "outputs": [],
   "source": [
    "barna_df.drop(barna_df.index[42], inplace=True)\n"
   ]
  },
  {
   "cell_type": "code",
   "execution_count": null,
   "metadata": {},
   "outputs": [],
   "source": [
    "barna_df = barna_df.rename(columns={\"Place Name\": \"Neighborhood\"})\n",
    "barna_df.head()"
   ]
  },
  {
   "cell_type": "code",
   "execution_count": null,
   "metadata": {},
   "outputs": [],
   "source": [
    "#creating url and requesiting the API data\n",
    "neighborhood_lng = barna_df.loc[0, 'Longitude']\n",
    "neighborhood_lat = barna_df.loc[0, 'Latitude']\n",
    "radius = 500\n",
    "Query   = 'coffee'\n",
    "#create request\n",
    "url='https://api.foursquare.com/v2/venues/search?&client_id={}&client_secret={}&v={}&ll={},{}&radius={}&limit={}&query={}'.format(\n",
    "    CLIENT_ID,\n",
    "    CLIENT_SECRET,\n",
    "    API_VERSION,\n",
    "    neighborhood_lat,\n",
    "    neighborhood_lng,\n",
    "    radius,\n",
    "    LIMIT,\n",
    "    Query)\n",
    "results = requests.get(url).json()"
   ]
  },
  {
   "cell_type": "code",
   "execution_count": null,
   "metadata": {},
   "outputs": [],
   "source": [
    "def getNearbyvenues( names, latitudes, longitudes, radius = 500 ):\n",
    "    \n",
    "    venues_list=[]\n",
    "    for name, lat, lng, in zip( names, latitudes, longitudes ):\n",
    "        print(name)\n",
    "        #create request\n",
    "        url='https://api.foursquare.com/v2/venues/explore?&client_id={}&client_secret={}&v={}&ll={},{}&radius={}&limit={}'.format(\n",
    "            CLIENT_ID,\n",
    "            CLIENT_SECRET,\n",
    "            API_VERSION,\n",
    "            lat,\n",
    "            lng,\n",
    "            radius,\n",
    "            LIMIT)\n",
    "        \n",
    "        #make get request\n",
    "        results=requests.get(url).json()[\"response\"]['groups'][0]['items']\n",
    "      \n",
    "        #returning only the relevant information\n",
    "        venues_list.append([(name,lat,lng,v['venue']['name'],v['venue']['location']['lat'],v['venue']['location']['lng'],\n",
    "                             v['venue']['categories'][0]['name'], v['venue']['id'] ) for v in results])\n",
    "        \n",
    "        nearby_venues= pd.DataFrame([item for venue_list in venues_list for item in venue_list])\n",
    "        nearby_venues.columns=['Neighbourhood',\n",
    "                               'Neighbourhood latitude',\n",
    "                               'Neighbourhood longitude',\n",
    "                               'Venue',\n",
    "                               'Venue Latitude',\n",
    "                               'Venue Longitude',\n",
    "                               'Venue category',\n",
    "                               'Id']\n",
    "    return(nearby_venues)"
   ]
  },
  {
   "cell_type": "code",
   "execution_count": null,
   "metadata": {},
   "outputs": [],
   "source": [
    "barcelona_venues=getNearbyvenues(names=barna_df['Neighborhood'], latitudes=barna_df['Latitude'],longitudes=barna_df['Longitude'])\n"
   ]
  },
  {
   "cell_type": "code",
   "execution_count": null,
   "metadata": {},
   "outputs": [],
   "source": [
    "barcelona_venues.head()\n"
   ]
  },
  {
   "cell_type": "code",
   "execution_count": null,
   "metadata": {},
   "outputs": [],
   "source": [
    "barcelona_venues.groupby('Neighbourhood').count().head() #counting the number of venues in each neighborhood\n"
   ]
  },
  {
   "cell_type": "code",
   "execution_count": null,
   "metadata": {},
   "outputs": [],
   "source": [
    "# lets get those data of expense and number of ratings\n",
    "#results = []\n",
    "#for idt in barcelona_venues['Id']:\n",
    "#    url='https://api.foursquare.com/v2/venues/'+idt+'?&client_id={}&client_secret={}&v={}&ll={},{}'.format(\n",
    "#        CLIENT_ID,\n",
    "#        CLIENT_SECRET,\n",
    "#        API_VERSION,\n",
    "#        neighborhood_lat,\n",
    "#        neighborhood_lng)\n",
    "#    try:\n",
    "#        results.append(requests.get(url).json()[\"response\"]['venue']['attributes']['groups'][0]['items'][0]['priceTier'])\n",
    "#    except:\n",
    "#        results.append('Na')"
   ]
  },
  {
   "cell_type": "code",
   "execution_count": null,
   "metadata": {},
   "outputs": [],
   "source": [
    "#analysing neighborhoods\n",
    "barcelona_onehot = pd.get_dummies(barcelona_venues[['Venue category']], prefix = '', prefix_sep='')\n",
    "barcelona_onehot['Neighbourhood']=barcelona_venues['Neighbourhood']\n",
    "fixed_columns = [barcelona_onehot.columns[-1]]+list(barcelona_onehot.columns[:-1])\n",
    "barcelona_onehot= barcelona_onehot[fixed_columns]\n",
    "barcelona_onehot.shape\n",
    "#grouping by neighbourhood\n",
    "barcelona_grouped=barcelona_onehot.groupby('Neighbourhood').mean().reset_index()\n",
    "barcelona_grouped"
   ]
  },
  {
   "cell_type": "code",
   "execution_count": null,
   "metadata": {},
   "outputs": [],
   "source": [
    "def return_most_common_venues(row, num_top_venues):\n",
    "    row_categories=row.iloc[1:]\n",
    "    row_categories_sorted=row_categories.sort_values(ascending=False)\n",
    "    \n",
    "    return row_categories_sorted.index.values[0:num_top_venues]"
   ]
  },
  {
   "cell_type": "code",
   "execution_count": null,
   "metadata": {},
   "outputs": [],
   "source": [
    "#printing most common venues\n",
    "num_top_venues=10\n",
    "for hood in barcelona_grouped['Neighbourhood']:\n",
    "    print('____'+hood+'____')\n",
    "    temp=barcelona_grouped[barcelona_grouped['Neighbourhood']==hood].T.reset_index()\n",
    "    temp.columns=['venue','freq']\n",
    "    temp=temp.iloc[1:]\n",
    "    temp['freq']=temp['freq'].astype(float)\n",
    "    temp=temp.round({'freq':2})\n",
    "    print(temp.sort_values('freq',ascending=False).reset_index(drop=True).head(num_top_venues))\n",
    "    print('\\n')\n",
    "#sorting in descending order\n",
    "num_top_venues=10\n",
    "indicators=['st','nd','rd']\n",
    "columns=['Neighbourhood']\n",
    "for ind in np.arange(num_top_venues):\n",
    "    try:\n",
    "        columns.append(\"{}{} Most Common Venue\".format(ind+1,indicators[ind]))\n",
    "    except:\n",
    "        columns.append(\"{}th Most Common Venue\".format(ind+1))\n",
    "#new dataframe\n",
    "neighbourhoods_venuessorted = pd.DataFrame(columns=columns)\n",
    "neighbourhoods_venuessorted['Neighbourhood']=barcelona_grouped['Neighbourhood']\n",
    "for ind in np.arange(barcelona_grouped.shape[0]):\n",
    "    neighbourhoods_venuessorted.iloc[ind,1:] = return_most_common_venues(barcelona_grouped.iloc[ind, :], num_top_venues)\n",
    "neighbourhoods_venuessorted"
   ]
  },
  {
   "cell_type": "code",
   "execution_count": null,
   "metadata": {},
   "outputs": [],
   "source": [
    "# Kmeans clustering\n",
    "Kclusters = 10\n",
    "barcelona_grouped_clustering= barcelona_grouped.drop('Neighbourhood',1)\n",
    "#run k means\n",
    "kmeans=KMeans(n_clusters=Kclusters, random_state=0).fit(barcelona_grouped_clustering)\n",
    "kmeans.labels_[0:10]"
   ]
  },
  {
   "cell_type": "code",
   "execution_count": null,
   "metadata": {},
   "outputs": [],
   "source": [
    "barcelona_merged=barna_df\n",
    "\n",
    "barcelona_merged['Cluster Labels']=kmeans.labels_\n",
    "neighbourhoods_venuessorted.shape\n",
    "barcelona_merged=barcelona_merged.join(neighbourhoods_venuessorted.set_index('Neighbourhood'), on='Neighborhood')\n",
    "barcelona_merged"
   ]
  },
  {
   "cell_type": "code",
   "execution_count": null,
   "metadata": {},
   "outputs": [],
   "source": [
    "# visulaize clusters\n",
    "map_clusters=folium.Map(location=[latitude,longitude],zoom_start=12)\n",
    "x = np.arange(Kclusters)\n",
    "ys=[i+x+(i*x)**2 for i in range(Kclusters)]\n",
    "colors_array=cm.rainbow(np.linspace(0,1,len(ys)))\n",
    "rainbow = [colors.rgb2hex(i) for i in colors_array]\n",
    "#add markers\n",
    "markers_colors=[]\n",
    "for lat, lon, poi, cluster in zip(barcelona_merged['Latitude'],barcelona_merged['Longitude'], barcelona_merged['Neighborhood'], barcelona_merged['Cluster Labels']):\n",
    "    label=folium.Popup(str(poi)+' Cluster '+str(cluster),parse_html=True)\n",
    "    folium.CircleMarker(\n",
    "        [lat,lon],\n",
    "        radiesu=5,\n",
    "        popup=label,\n",
    "        color=rainbow[cluster-1],\n",
    "        fill=True,\n",
    "        fill_color=rainbow[cluster-1],\n",
    "        fill_opacity=0.7).add_to(map_clusters)\n",
    "map_clusters"
   ]
  },
  {
   "cell_type": "code",
   "execution_count": null,
   "metadata": {},
   "outputs": [],
   "source": [
    "df_data1 = df_data_2[df_data_2.columns[1:3]]\n",
    "df_data3 = df_data1.rename(columns={'1r Trimestre': 'Price per sq. m'})\n",
    "df_data3.head()"
   ]
  },
  {
   "cell_type": "code",
   "execution_count": null,
   "metadata": {},
   "outputs": [],
   "source": [
    "df_data3.drop(df_data3.index[0], inplace=True)\n"
   ]
  },
  {
   "cell_type": "code",
   "execution_count": null,
   "metadata": {},
   "outputs": [],
   "source": [
    "df_data4 = df_data3[df_data3['Price per sq. m'].str.contains(\"nd\") == False] # droppinf rows with NaN or Nd values \n",
    "# next step is to select only those rows which partially match the rows of the main barcelona Table\n",
    "# cleaning the data\n",
    "df_data4.loc[:,'Barris']= [x.split('.')[1] for x in df_data4['Barris']]"
   ]
  },
  {
   "cell_type": "code",
   "execution_count": null,
   "metadata": {},
   "outputs": [],
   "source": [
    "# adding the datasets manually\n",
    "df5 = barcelona_merged\n",
    "df5['Rent per sq m'] = 1\n",
    "df5['Rent per sq m'][1]  = 19.5\n",
    "df5['Rent per sq m'][10] = 13.5\n",
    "df5['Rent per sq m'][13] = 14.1\n",
    "df5['Rent per sq m'][11] = 13\n",
    "df5['Rent per sq m'][17] = 13\n",
    "df5['Rent per sq m'][0]  = 19.8\n",
    "df5['Rent per sq m'][3]  = 12.7\n",
    "df5['Rent per sq m'][2]  = 12.3\n",
    "df5['Rent per sq m'][4]  = 9.5\n",
    "df5['Rent per sq m'][5]  = 12.9\n",
    "df5['Rent per sq m'][6]  = 11.2\n",
    "df5['Rent per sq m'][7]  = 19.5\n",
    "df5['Rent per sq m'][8]  = 13.4\n",
    "df5['Rent per sq m'][9]  = 13\n",
    "df5['Rent per sq m'][11] = 13.5\n",
    "df5['Rent per sq m'][12] = 12.8\n",
    "df5['Rent per sq m'][14] = 11.9\n",
    "df5['Rent per sq m'][15] = 11.2\n",
    "df5['Rent per sq m'][16] = 13.2\n",
    "df5['Rent per sq m'][18] = 9.8\n",
    "df5['Rent per sq m'][19] = 10\n",
    "df5['Rent per sq m'][20] = 13.2\n",
    "df5['Rent per sq m'][21] = 13.6\n",
    "df5['Rent per sq m'][22] = 9.4\n",
    "df5['Rent per sq m'][23] = 9.9\n",
    "df5['Rent per sq m'][24] = 11.5\n",
    "df5['Rent per sq m'][25] = 11.6\n",
    "df5['Rent per sq m'][26] = 12.4\n",
    "df5['Rent per sq m'][27] = 12.4\n",
    "df5['Rent per sq m'][28] = 14.5\n",
    "df5['Rent per sq m'][29] = 14.6\n",
    "df5['Rent per sq m'][30] = 15\n",
    "df5['Rent per sq m'][31] = 13.2\n",
    "df5['Rent per sq m'][32] = 12.4\n",
    "df5['Rent per sq m'][33] = 16\n",
    "df5['Rent per sq m'][34] = 14\n",
    "df5['Rent per sq m'][35] = 14.1\n",
    "df5['Rent per sq m'][36] = 10.1\n",
    "df5['Rent per sq m'][37] = 9.8\n",
    "df5['Rent per sq m'][38] = 14.9\n",
    "df5['Rent per sq m'][39] = 11.2\n",
    "df5['Rent per sq m'][40] = 11.1\n",
    "df5['Rent per sq m'][41] = 13.7"
   ]
  },
  {
   "cell_type": "code",
   "execution_count": null,
   "metadata": {},
   "outputs": [],
   "source": [
    "df5.head()\n"
   ]
  },
  {
   "cell_type": "code",
   "execution_count": null,
   "metadata": {},
   "outputs": [],
   "source": [
    "# normalizing the rent column\n",
    "def standardize( df, label):\n",
    "    \"\"\"\n",
    "    standardizes a series with name ``label'' within the pd.DataFrame\n",
    "    ``df''.\n",
    "    \"\"\"\n",
    "    df = df.copy(deep=True)\n",
    "    series = df.loc[:, label]\n",
    "    avg = series.mean()\n",
    "    stdv = series.std()\n",
    "    series_standardized = (series - avg)/ stdv\n",
    "    return series_standardized\n",
    "Out = standardize(df5, 'Rent per sq m')\n",
    "new=[]\n",
    "for i in df5['Rent per sq m']:\n",
    "    new.append(Out[i])"
   ]
  },
  {
   "cell_type": "code",
   "execution_count": null,
   "metadata": {},
   "outputs": [],
   "source": [
    "# final result , Hence we can show the similarity or dissimilarity between different neighborhoods alongwith Rent prices, whcih will recommend the person where to get a house\n",
    "df5['Rent per sq m'] = new"
   ]
  },
  {
   "cell_type": "code",
   "execution_count": null,
   "metadata": {},
   "outputs": [],
   "source": [
    "df5.head()\n"
   ]
  }
 ],
 "metadata": {
  "kernelspec": {
   "display_name": "Python 3",
   "language": "python",
   "name": "python3"
  },
  "language_info": {
   "codemirror_mode": {
    "name": "ipython",
    "version": 3
   },
   "file_extension": ".py",
   "mimetype": "text/x-python",
   "name": "python",
   "nbconvert_exporter": "python",
   "pygments_lexer": "ipython3",
   "version": "3.6.7"
  }
 },
 "nbformat": 4,
 "nbformat_minor": 4
}
